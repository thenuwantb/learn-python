{
 "cells": [
  {
   "cell_type": "markdown",
   "source": [
    "# Python Data Types\n",
    "Data structures are way of organizing and storing data so that they can be accessed and get our work done efficiently.\n",
    "You do not need to define the type of the data when creating variables - Python automatically identifies them.\n",
    "\n",
    "Some of the commonly used data structures in Python are described below\n",
    "\n",
    "## 1. Primitive Data Structures\n",
    "1. Integers - to store whole number (`1`, `2`, `3`)\n",
    "2. Floats - to store floating point numbers (`2.3`, `3.14`)\n",
    "3. Strings - to store a collection of characters. Type within a pair of single or double quotes (`'Boffin'`, `\"Data Science\"`)\n",
    "4. Boolean - to store `True` and `False` values"
   ],
   "metadata": {
    "collapsed": false,
    "pycharm": {
     "name": "#%% md\n"
    }
   }
  },
  {
   "cell_type": "code",
   "execution_count": 3,
   "outputs": [
    {
     "name": "stdout",
     "text": [
      "<class 'int'>\n",
      "<class 'float'>\n",
      "<class 'str'>\n",
      "<class 'bool'>\n"
     ],
     "output_type": "stream"
    }
   ],
   "source": [
    "import math\n",
    "age = 31\n",
    "PI = math.pi    \n",
    "current_city = 'Colombo'\n",
    "is_positive = True\n",
    "\n",
    "print (type(age))\n",
    "print (type(PI))\n",
    "print (type (current_city))\n",
    "print (type (is_positive))\n"
   ],
   "metadata": {
    "collapsed": false,
    "pycharm": {
     "name": "#%%\n",
     "is_executing": false
    }
   }
  },
  {
   "cell_type": "markdown",
   "source": [
    "%% md\n",
    "\n",
    "## 2. Non-Primitive Data Structures\n",
    "Stores a collection of values in various formats\n",
    "\n",
    "1. Lists - used to store collection of heterogeneous items \n"
   ],
   "metadata": {
    "collapsed": false
   }
  }
 ],
 "metadata": {
  "kernelspec": {
   "name": "python3",
   "language": "python",
   "display_name": "Python 3"
  },
  "language_info": {
   "codemirror_mode": {
    "name": "ipython",
    "version": 2
   },
   "file_extension": ".py",
   "mimetype": "text/x-python",
   "name": "python",
   "nbconvert_exporter": "python",
   "pygments_lexer": "ipython2",
   "version": "2.7.6"
  },
  "pycharm": {
   "stem_cell": {
    "cell_type": "raw",
    "source": [
     "\n"
    ],
    "metadata": {
     "collapsed": false
    }
   }
  }
 },
 "nbformat": 4,
 "nbformat_minor": 0
}