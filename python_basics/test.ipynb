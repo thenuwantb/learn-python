{
 "cells": [
  {
   "cell_type": "markdown",
   "source": [
    "# Python Data Types\n",
    "Data structures are way of organizing and storing data so that they can be accessed and get our work done efficiently.\n",
    "You do not need to define the type of the data when creating variables - Python automatically identifies them.\n",
    "\n",
    "Some of the commonly used data structures in Python are described below\n",
    "\n",
    "## 1. Primitive Data Structures\n",
    "1. Integers - to store whole number (`1`, `2`, `3`)\n",
    "2. Floats - to store floating point numbers (`2.3`, `3.14`)\n",
    "3. Strings - to store a collection of characters. Type within a pair of single or double quotes (`'Boffin'`, `\"Data Science\"`)\n",
    "4. Boolean - to store `True` and `False` values\n",
    "\n",
    "## 2. "
   ],
   "metadata": {
    "collapsed": false,
    "pycharm": {
     "name": "#%% md\n"
    }
   }
  }
 ],
 "metadata": {
  "kernelspec": {
   "name": "pycharm-bb6b3a29",
   "language": "python",
   "display_name": "PyCharm (boffin_python)"
  },
  "language_info": {
   "codemirror_mode": {
    "name": "ipython",
    "version": 2
   },
   "file_extension": ".py",
   "mimetype": "text/x-python",
   "name": "python",
   "nbconvert_exporter": "python",
   "pygments_lexer": "ipython2",
   "version": "2.7.6"
  },
  "pycharm": {
   "stem_cell": {
    "cell_type": "raw",
    "source": [
     "\n"
    ],
    "metadata": {
     "collapsed": false
    }
   }
  }
 },
 "nbformat": 4,
 "nbformat_minor": 0
}