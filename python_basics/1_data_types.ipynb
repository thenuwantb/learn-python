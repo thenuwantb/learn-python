{
 "cells": [
  {
   "cell_type": "markdown",
   "metadata": {
    "pycharm": {
     "name": "#%% md\n"
    }
   },
   "source": [
    "# Python Data Types\n",
    "Data structures are way of organizing and storing data so that they can be accessed and get our work done efficiently.\n",
    "You do not need to define the type of the data when creating variables - Python automatically identifies them.\n",
    "\n",
    "Some of the commonly used data structures in Python are described below\n",
    "\n",
    "## 1. Primitive Data Structures\n",
    "1. Integers - to store whole number (`1`, `2`, `3`)\n",
    "2. Floats - to store floating point numbers (`2.3`, `3.14`)\n",
    "3. Strings - to store a collection of characters. Type within a pair of single or double quotes (`'Boffin'`, `\"Data Science\"`)\n",
    "4. Boolean - to store `True` and `False` values"
   ]
  },
  {
   "cell_type": "code",
   "execution_count": 2,
   "metadata": {
    "pycharm": {
     "is_executing": false,
     "name": "#%%\n"
    }
   },
   "outputs": [
    {
     "name": "stdout",
     "output_type": "stream",
     "text": [
      "<class 'int'>\n",
      "<class 'float'>\n",
      "<class 'str'>\n",
      "<class 'bool'>\n"
     ]
    }
   ],
   "source": [
    "import math\n",
    "age = 31\n",
    "PI = math.pi    \n",
    "current_city = 'Colombo'\n",
    "is_positive = True\n",
    "\n",
    "print (type(age))\n",
    "print (type(PI))\n",
    "print (type (current_city))\n",
    "print (type (is_positive))"
   ]
  },
  {
   "cell_type": "markdown",
   "metadata": {
    "pycharm": {
     "name": "#%% md\n"
    }
   },
   "source": [
    "## 2. Non-Primitive Data Structures\n",
    "Stores a collection of values in various formats\n",
    "\n",
    "### 1. Lists - used to store collection of heterogeneous (/homogeneous) items. Lists are mutable"
   ]
  },
  {
   "cell_type": "code",
   "execution_count": 6,
   "metadata": {
    "pycharm": {
     "is_executing": false,
     "name": "#%%\n"
    }
   },
   "outputs": [
    {
     "name": "stdout",
     "output_type": "stream",
     "text": [
      "31\n",
      "[31, 3.141592653589793, 'Colombo', False]\n",
      "[3.141592653589793, 'Colombo', False]\n"
     ]
    }
   ],
   "source": [
    "list_of_above = [age, PI, current_city, is_positive]\n",
    "print(list_of_above[0]) #Python is zero indexed language\n",
    "\n",
    "# Removing / changing an item from a list is possible\n",
    "list_of_above[3] = False\n",
    "print(list_of_above)\n",
    "\n",
    "list_of_above.pop(0)\n",
    "print(list_of_above)\n"
   ]
  },
  {
   "cell_type": "markdown",
   "metadata": {},
   "source": [
    "### 2. Tuples - similar to 'Lists' but immutable"
   ]
  },
  {
   "cell_type": "code",
   "execution_count": 11,
   "metadata": {
    "pycharm": {
     "is_executing": false,
     "name": "#%%\n"
    }
   },
   "outputs": [
    {
     "name": "stdout",
     "output_type": "stream",
     "text": [
      "True\n"
     ]
    },
    {
     "ename": "AttributeError",
     "evalue": "'tuple' object has no attribute 'pop'",
     "output_type": "error",
     "traceback": [
      "\u001b[1;31m---------------------------------------------------------------------------\u001b[0m",
      "\u001b[1;31mAttributeError\u001b[0m                            Traceback (most recent call last)",
      "\u001b[1;32m<ipython-input-11-8cd7e03e1eb9>\u001b[0m in \u001b[0;36m<module>\u001b[1;34m\u001b[0m\n\u001b[0;32m      5\u001b[0m \u001b[1;33m\u001b[0m\u001b[0m\n\u001b[0;32m      6\u001b[0m \u001b[1;31m#tuple_of_above[3] = False\u001b[0m\u001b[1;33m\u001b[0m\u001b[1;33m\u001b[0m\u001b[1;33m\u001b[0m\u001b[0m\n\u001b[1;32m----> 7\u001b[1;33m \u001b[0mtuple_of_above\u001b[0m\u001b[1;33m.\u001b[0m\u001b[0mpop\u001b[0m\u001b[1;33m(\u001b[0m\u001b[1;36m0\u001b[0m\u001b[1;33m)\u001b[0m\u001b[1;33m\u001b[0m\u001b[1;33m\u001b[0m\u001b[0m\n\u001b[0m",
      "\u001b[1;31mAttributeError\u001b[0m: 'tuple' object has no attribute 'pop'"
     ]
    }
   ],
   "source": [
    "tuple_of_above = (age, PI, current_city, is_positive)\n",
    "\n",
    "# Removing/ changing an item from a tuple is not possible (immutable)\n",
    "print(tuple_of_above[3])\n",
    "tuple_of_above[3] = False"
   ]
  },
  {
   "cell_type": "markdown",
   "metadata": {},
   "source": [
    "### 3. Dictionary - consists with `key`, `value` pairs"
   ]
  },
  {
   "cell_type": "code",
   "execution_count": 5,
   "metadata": {
    "pycharm": {
     "name": "#%%\n",
     "is_executing": false
    }
   },
   "outputs": [
    {
     "name": "stdout",
     "text": [
      "dict_keys(['name', 'age', 'is_online'])\n",
      "dict_values(['Thenuwan', 31, True])\n",
      "{'name': 'Thenuwan', 'age': 31, 'is_online': False}\n"
     ],
     "output_type": "stream"
    }
   ],
   "source": [
    "# There are many other ways to initiate a dictionary - check python docs\n",
    "dict_sample = {'name': 'Thenuwan', 'age' : 31, 'is_online':True} \n",
    "\n",
    "# keys of the dictionary\n",
    "print(dict_sample.keys())\n",
    "\n",
    "# Values of the dictionary\n",
    "print(dict_sample.values())\n",
    "\n",
    "# change a value of a dictionary\n",
    "dict_sample['is_online'] = False\n",
    "print(dict_sample)"
   ]
  },
  {
   "cell_type": "markdown",
   "source": [
    "#### 3.1. Usage of a dictionary\n",
    "\n",
    "The below example shows how a python dictionary can be used to create a word frequency"
   ],
   "metadata": {
    "collapsed": false
   }
  },
  {
   "cell_type": "code",
   "execution_count": 9,
   "outputs": [
    {
     "name": "stdout",
     "text": [
      "{'for': 1, 'a': 1, 'country': 1, 'to': 2, 'grow': 1, 'it': 1, 'must': 2, 'be': 2, 'able': 1, 'move': 1, 'people': 1, 'and': 3, 'goods.': 1, 'Such': 1, 'transport': 1, 'done': 1, 'cheaply': 1, \"easliy.'\": 1, 'The': 1, 'early': 1, 'days': 1, 'of': 1, 'the': 1, 'United': 1, 'States': 1, 'show': 1, 'why.': 1, 'During': 1, 'this': 1, 'time,': 1, 'Americans': 1, 'built': 1, 'new': 1, 'roads,': 1, 'canals,': 1, 'railroads.': 1, \"'This\": 1, 'transportation': 1, 'network': 1, 'grew': 1, 'fast.': 1, 'It': 1, 'made': 1, 'economic': 1, 'growth': 1, 'possible': 1}\n"
     ],
     "output_type": "stream"
    }
   ],
   "source": [
    "para = 'for a country to grow it must be able to move people and goods. Such transport must be done cheaply and easliy.\\'' \\\n",
    "       ' The early days of the United States show why. During this time, Americans built new roads, canals, and railroads. \\'' \\\n",
    "       'This transportation network grew fast. It made economic growth possible'\n",
    "\n",
    "word_frequency_dict = {} # open and empty dictionary\n",
    "para_word = str(para).split() #split the sentences to words\n",
    "\n",
    "for word in range(len(para_word)):\n",
    "    if para_word[word] not in word_frequency_dict:\n",
    "        word_frequency_dict[para_word[word]] = 1\n",
    "        \n",
    "    else :\n",
    "        word_frequency_dict[para_word[word]] +=1\n",
    "        \n",
    "print(word_frequency_dict)\n",
    "\n"
   ],
   "metadata": {
    "collapsed": false,
    "pycharm": {
     "name": "#%%\n",
     "is_executing": false
    }
   }
  }
 ],
 "metadata": {
  "kernelspec": {
   "display_name": "Python 3",
   "language": "python",
   "name": "python3"
  },
  "language_info": {
   "codemirror_mode": {
    "name": "ipython",
    "version": 3
   },
   "file_extension": ".py",
   "mimetype": "text/x-python",
   "name": "python",
   "nbconvert_exporter": "python",
   "pygments_lexer": "ipython3",
   "version": "3.7.9"
  },
  "pycharm": {
   "stem_cell": {
    "cell_type": "raw",
    "source": [
     "\n"
    ],
    "metadata": {
     "collapsed": false
    }
   }
  }
 },
 "nbformat": 4,
 "nbformat_minor": 1
}